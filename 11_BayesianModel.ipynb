{
 "cells": [
  {
   "cell_type": "markdown",
   "metadata": {},
   "source": [
    "# Sheet 11\n",
   ]
  },
  {
   "cell_type": "code",
   "execution_count": 1,
   "metadata": {},
   "outputs": [],
   "source": [
    "from pgmpy.models import BayesianModel\n",
    "from pgmpy.factors.discrete import TabularCPD\n",
    "from pgmpy.inference import VariableElimination"
   ]
  },
  {
   "cell_type": "markdown",
   "metadata": {},
   "source": [
    "# Exercise 2"
   ]
  },
  {
   "cell_type": "code",
   "execution_count": 2,
   "metadata": {},
   "outputs": [],
   "source": [
    "watersprinkler_model = BayesianModel([('Cloudy', 'Sprinkler'),\n",
    "                              ('Cloudy', 'Rain'),\n",
    "                              ('Sprinkler', 'WetGrass'),\n",
    "                              ('Rain', 'WetGrass')])"
   ]
  },
  {
   "cell_type": "code",
   "execution_count": 3,
   "metadata": {},
   "outputs": [
    {
     "name": "stdout",
     "output_type": "stream",
     "text": [
      "+-----------+-----+\n",
      "| Cloudy(0) | 0.5 |\n",
      "+-----------+-----+\n",
      "| Cloudy(1) | 0.5 |\n",
      "+-----------+-----+\n",
      "+--------------+-----------+-----------+\n",
      "| Cloudy       | Cloudy(0) | Cloudy(1) |\n",
      "+--------------+-----------+-----------+\n",
      "| Sprinkler(0) | 0.5       | 0.9       |\n",
      "+--------------+-----------+-----------+\n",
      "| Sprinkler(1) | 0.5       | 0.1       |\n",
      "+--------------+-----------+-----------+\n",
      "+---------+-----------+-----------+\n",
      "| Cloudy  | Cloudy(0) | Cloudy(1) |\n",
      "+---------+-----------+-----------+\n",
      "| Rain(0) | 0.8       | 0.2       |\n",
      "+---------+-----------+-----------+\n",
      "| Rain(1) | 0.2       | 0.8       |\n",
      "+---------+-----------+-----------+\n",
      "+-------------+--------------+--------------+--------------+--------------+\n",
      "| Sprinkler   | Sprinkler(0) | Sprinkler(0) | Sprinkler(1) | Sprinkler(1) |\n",
      "+-------------+--------------+--------------+--------------+--------------+\n",
      "| Rain        | Rain(0)      | Rain(1)      | Rain(0)      | Rain(1)      |\n",
      "+-------------+--------------+--------------+--------------+--------------+\n",
      "| WetGrass(0) | 1.0          | 0.1          | 0.1          | 0.01         |\n",
      "+-------------+--------------+--------------+--------------+--------------+\n",
      "| WetGrass(1) | 0.0          | 0.9          | 0.9          | 0.99         |\n",
      "+-------------+--------------+--------------+--------------+--------------+\n"
     ]
    }
   ],
   "source": [
    "cpd_cloudy = TabularCPD(variable='Cloudy', variable_card=2,\n",
    "                      values=[[0.5], [0.5]] # first entry P(cloudy=False)\n",
    "                       )\n",
    "\n",
    "cpd_sprink = TabularCPD(variable='Sprinkler', variable_card=2,\n",
    "                      values=[[0.5, 0.9], [0.5, 0.1]],\n",
    "                      evidence=['Cloudy'],\n",
    "                      evidence_card=[2])\n",
    "\n",
    "cpd_rain = TabularCPD(variable='Rain', variable_card=2,\n",
    "                      values=[[0.8, 0.2], [0.2, 0.8]],\n",
    "                      evidence=['Cloudy'],\n",
    "                      evidence_card=[2])\n",
    "\n",
    "cpd_wetgrass = TabularCPD(variable='WetGrass', variable_card=2,\n",
    "                      values=[[1.0, 0.1, 0.1, 0.01], \n",
    "                              [0.0, 0.9, 0.9, 0.99]],\n",
    "                      evidence=['Sprinkler', 'Rain'],\n",
    "                      evidence_card=[2,2])\n",
    "\n",
    "print(cpd_cloudy)\n",
    "print(cpd_sprink)\n",
    "print(cpd_rain)\n",
    "print(cpd_wetgrass)"
   ]
  },
  {
   "cell_type": "code",
   "execution_count": 4,
   "metadata": {},
   "outputs": [
    {
     "data": {
      "text/plain": [
       "True"
      ]
     },
     "execution_count": 4,
     "metadata": {},
     "output_type": "execute_result"
    }
   ],
   "source": [
    "# Associating the parameters with the model structure.\n",
    "watersprinkler_model.add_cpds(cpd_cloudy, cpd_sprink, cpd_rain, cpd_wetgrass)\n",
    "\n",
    "# Checking if the cpds are valid for the model.\n",
    "watersprinkler_model.check_model()"
   ]
  },
  {
   "cell_type": "code",
   "execution_count": 5,
   "metadata": {},
   "outputs": [],
   "source": [
    "# Initializing the VariableElimination class\n",
    "watersprinkler_infer = VariableElimination(watersprinkler_model)"
   ]
  },
  {
   "cell_type": "code",
   "execution_count": 6,
   "metadata": {},
   "outputs": [
    {
     "name": "stderr",
     "output_type": "stream",
     "text": [
      "Finding Elimination Order: : 100%|██████████| 2/2 [00:00<00:00, 1092.84it/s]\n",
      "Eliminating: Cloudy: 100%|██████████| 2/2 [00:00<00:00, 449.74it/s]"
     ]
    },
    {
     "name": "stdout",
     "output_type": "stream",
     "text": [
      "+--------------+------------------+\n",
      "| Sprinkler    |   phi(Sprinkler) |\n",
      "+==============+==================+\n",
      "| Sprinkler(0) |           0.5702 |\n",
      "+--------------+------------------+\n",
      "| Sprinkler(1) |           0.4298 |\n",
      "+--------------+------------------+\n"
     ]
    },
    {
     "name": "stderr",
     "output_type": "stream",
     "text": [
      "\n"
     ]
    }
   ],
   "source": [
    "# What is the probability that the sprinkler was active (S=true) \n",
    "# after observing that the grass is wet (W=true)? \n",
    "q = watersprinkler_infer.query(variables=['Sprinkler'],\n",
    "                               evidence={'WetGrass': 1})\n",
    "print(q)"
   ]
  },
  {
   "cell_type": "code",
   "execution_count": 7,
   "metadata": {},
   "outputs": [
    {
     "name": "stderr",
     "output_type": "stream",
     "text": [
      "Finding Elimination Order: : 100%|██████████| 1/1 [00:00<00:00, 1001.98it/s]\n",
      "Eliminating: Cloudy: 100%|██████████| 1/1 [00:00<00:00, 439.56it/s]"
     ]
    },
    {
     "name": "stdout",
     "output_type": "stream",
     "text": [
      "+--------------+------------------+\n",
      "| Sprinkler    |   phi(Sprinkler) |\n",
      "+==============+==================+\n",
      "| Sprinkler(0) |           0.8055 |\n",
      "+--------------+------------------+\n",
      "| Sprinkler(1) |           0.1945 |\n",
      "+--------------+------------------+\n"
     ]
    },
    {
     "name": "stderr",
     "output_type": "stream",
     "text": [
      "\n"
     ]
    }
   ],
   "source": [
    "# What is the probability after the additional observation that it \n",
    "# rained recently (R=true)?\n",
    "q = watersprinkler_infer.query(variables=['Sprinkler'],\n",
    "                               evidence={'WetGrass': 1, 'Rain': 1})\n",
    "print(q)"
   ]
  },
  {
   "cell_type": "markdown",
   "metadata": {},
   "source": [
    "# Exercise 3"
   ]
  },
  {
   "cell_type": "markdown",
   "metadata": {},
   "source": [
    "### a) see attached Pdf"
   ]
  },
  {
   "cell_type": "markdown",
   "metadata": {},
   "source": [
    "### b)"
   ]
  },
  {
   "cell_type": "code",
   "execution_count": 8,
   "metadata": {},
   "outputs": [],
   "source": [
    "alarm_model = BayesianModel([('B', 'A'),   # B = Burglary, A = Alarm\n",
    "                              ('E', 'A'),  # E = Earthquake\n",
    "                              ('E', 'R')]) # R = Radio\n"
   ]
  },
  {
   "cell_type": "code",
   "execution_count": 9,
   "metadata": {},
   "outputs": [
    {
     "name": "stdout",
     "output_type": "stream",
     "text": [
      "+------+------+\n",
      "| B(0) | 0.99 |\n",
      "+------+------+\n",
      "| B(1) | 0.01 |\n",
      "+------+------+\n",
      "+------+----------+\n",
      "| E(0) | 0.999999 |\n",
      "+------+----------+\n",
      "| E(1) | 1e-06    |\n",
      "+------+----------+\n",
      "+------+------+------+\n",
      "| E    | E(0) | E(1) |\n",
      "+------+------+------+\n",
      "| R(0) | 1.0  | 0.0  |\n",
      "+------+------+------+\n",
      "| R(1) | 0.0  | 1.0  |\n",
      "+------+------+------+\n",
      "+------+-------+------+------+------+\n",
      "| B    | B(0)  | B(0) | B(1) | B(1) |\n",
      "+------+-------+------+------+------+\n",
      "| E    | E(0)  | E(1) | E(0) | E(1) |\n",
      "+------+-------+------+------+------+\n",
      "| A(0) | 0.999 | 0.59 | 0.05 | 0.02 |\n",
      "+------+-------+------+------+------+\n",
      "| A(1) | 0.001 | 0.41 | 0.95 | 0.98 |\n",
      "+------+-------+------+------+------+\n"
     ]
    }
   ],
   "source": [
    "cpd_B = TabularCPD(variable='B', variable_card=2,\n",
    "                      values=[[0.99], [0.01]])\n",
    "\n",
    "cpd_E = TabularCPD(variable='E', variable_card=2,\n",
    "                      values=[[1-1e-6], [1e-6]])\n",
    "\n",
    "cpd_R = TabularCPD(variable='R', variable_card=2,\n",
    "                      values=[[1.0, 0.0], [0.0, 1.0]],\n",
    "                      evidence=['E'],\n",
    "                      evidence_card=[2])\n",
    "\n",
    "cpd_A = TabularCPD(variable='A', variable_card=2,\n",
    "                      values=[[0.999, 0.59, 0.05, 0.02], \n",
    "                              [0.001, 0.41, 0.95, 0.98]],\n",
    "                      evidence=['B', 'E'],\n",
    "                      evidence_card=[2,2])\n",
    "\n",
    "print(cpd_B)\n",
    "print(cpd_E)\n",
    "print(cpd_R)\n",
    "print(cpd_A)"
   ]
  },
  {
   "cell_type": "code",
   "execution_count": 10,
   "metadata": {},
   "outputs": [
    {
     "data": {
      "text/plain": [
       "True"
      ]
     },
     "execution_count": 10,
     "metadata": {},
     "output_type": "execute_result"
    }
   ],
   "source": [
    "# Associating the parameters with the model structure.\n",
    "alarm_model.add_cpds(cpd_B, cpd_E, cpd_R, cpd_A)\n",
    "\n",
    "# Checking if the cpds are valid for the model.\n",
    "alarm_model.check_model()"
   ]
  },
  {
   "cell_type": "code",
   "execution_count": 11,
   "metadata": {},
   "outputs": [],
   "source": [
    "# Initializing the VariableElimination class\n",
    "alarm_infer = VariableElimination(alarm_model)"
   ]
  },
  {
   "cell_type": "code",
   "execution_count": 12,
   "metadata": {},
   "outputs": [
    {
     "name": "stderr",
     "output_type": "stream",
     "text": [
      "Finding Elimination Order: : 100%|██████████| 3/3 [00:00<00:00, 1355.19it/s]\n",
      "Eliminating: B: 100%|██████████| 3/3 [00:00<00:00, 494.65it/s]"
     ]
    },
    {
     "name": "stdout",
     "output_type": "stream",
     "text": [
      "+------+----------+\n",
      "| A    |   phi(A) |\n",
      "+======+==========+\n",
      "| A(0) |   0.9895 |\n",
      "+------+----------+\n",
      "| A(1) |   0.0105 |\n",
      "+------+----------+\n"
     ]
    },
    {
     "name": "stderr",
     "output_type": "stream",
     "text": [
      "\n"
     ]
    }
   ],
   "source": [
    "# P(A=t)?\n",
    "q = alarm_infer.query(variables=['A'])\n",
    "print(q)"
   ]
  },
  {
   "cell_type": "code",
   "execution_count": 13,
   "metadata": {},
   "outputs": [
    {
     "name": "stderr",
     "output_type": "stream",
     "text": [
      "Finding Elimination Order: : 100%|██████████| 2/2 [00:00<00:00, 895.36it/s]\n",
      "Eliminating: E: 100%|██████████| 2/2 [00:00<00:00, 436.88it/s]"
     ]
    },
    {
     "name": "stdout",
     "output_type": "stream",
     "text": [
      "+------+----------+\n",
      "| A    |   phi(A) |\n",
      "+======+==========+\n",
      "| A(0) |   0.5843 |\n",
      "+------+----------+\n",
      "| A(1) |   0.4157 |\n",
      "+------+----------+\n"
     ]
    },
    {
     "name": "stderr",
     "output_type": "stream",
     "text": [
      "\n"
     ]
    }
   ],
   "source": [
    "# (A|R=true)?\n",
    "q = alarm_infer.query(variables=['A'], evidence={'R': 1})\n",
    "print(q)"
   ]
  },
  {
   "cell_type": "code",
   "execution_count": 14,
   "metadata": {},
   "outputs": [
    {
     "name": "stderr",
     "output_type": "stream",
     "text": [
      "Finding Elimination Order: : 100%|██████████| 2/2 [00:00<00:00, 1138.98it/s]\n",
      "Eliminating: E: 100%|██████████| 2/2 [00:00<00:00, 687.31it/s]"
     ]
    },
    {
     "name": "stdout",
     "output_type": "stream",
     "text": [
      "+------+----------+\n",
      "| B    |   phi(B) |\n",
      "+======+==========+\n",
      "| B(0) |   0.0944 |\n",
      "+------+----------+\n",
      "| B(1) |   0.9056 |\n",
      "+------+----------+\n"
     ]
    },
    {
     "name": "stderr",
     "output_type": "stream",
     "text": [
      "\n"
     ]
    }
   ],
   "source": [
    "# P(B = t|A = t)?\n",
    "q = alarm_infer.query(variables=['B'], evidence={'A': 1})\n",
    "print(q)"
   ]
  },
  {
   "cell_type": "code",
   "execution_count": 15,
   "metadata": {},
   "outputs": [
    {
     "name": "stderr",
     "output_type": "stream",
     "text": [
      "Finding Elimination Order: : 100%|██████████| 1/1 [00:00<00:00, 776.87it/s]\n",
      "Eliminating: E: 100%|██████████| 1/1 [00:00<00:00, 370.06it/s]"
     ]
    },
    {
     "name": "stdout",
     "output_type": "stream",
     "text": [
      "+------+----------+\n",
      "| B    |   phi(B) |\n",
      "+======+==========+\n",
      "| B(0) |   0.9764 |\n",
      "+------+----------+\n",
      "| B(1) |   0.0236 |\n",
      "+------+----------+\n"
     ]
    },
    {
     "name": "stderr",
     "output_type": "stream",
     "text": [
      "\n"
     ]
    }
   ],
   "source": [
    "# P(B = t|A = t, R = t)?\n",
    "q = alarm_infer.query(variables=['B'], evidence={'A': 1, 'R': 1})\n",
    "print(q)"
   ]
  },
  {
   "cell_type": "markdown",
   "metadata": {},
   "source": [
    "### c)"
   ]
  },
  {
   "cell_type": "markdown",
   "metadata": {},
   "source": [
    "In b) we can observe that the probability of a burglary in ones home can seem pretty high, if only limited information P(B = t|A = t) is available: P(B = t|A = t) = 0.9056.\n",
    "However, if the additional information is available that an earthquake occured, this changes dramatically: \n",
    "P(B = t|A = t, R = t) = 0.0236. The additional information can make us very confident, that there was a false alarm triggered by the earthquake and it seems very unlikely that a burglary occured."
   ]
  }
 ],
 "metadata": {
  "kernelspec": {
   "display_name": "Python 3",
   "language": "python",
   "name": "python3"
  },
  "language_info": {
   "codemirror_mode": {
    "name": "ipython",
    "version": 3
   },
   "file_extension": ".py",
   "mimetype": "text/x-python",
   "name": "python",
   "nbconvert_exporter": "python",
   "pygments_lexer": "ipython3",
   "version": "3.6.9"
  }
 },
 "nbformat": 4,
 "nbformat_minor": 2
}
