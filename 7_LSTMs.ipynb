{
 "cells": [
  {
   "cell_type": "code",
   "execution_count": 1,
   "metadata": {},
   "outputs": [],
   "source": [
    "import numpy as np\n",
    "import tensorflow as tf\n",
    "from tensorflow import keras\n",
    "from tensorflow.keras.layers import Dense, LSTM \n",
    "import datetime\n",
    "import matplotlib.pyplot as plt\n",
    "import os \n",
    "import shutil"
   ]
  },
  {
   "cell_type": "code",
   "execution_count": 2,
   "metadata": {},
   "outputs": [],
   "source": [
    "%load_ext tensorboard"
   ]
  },
  {
   "cell_type": "code",
   "execution_count": 48,
   "metadata": {},
   "outputs": [],
   "source": [
    "# shutil.rmtree('.\\logs')"
   ]
  },
  {
   "cell_type": "code",
   "execution_count": 5,
   "metadata": {},
   "outputs": [],
   "source": [
    "def check_100(data_set):\n",
    "    logic = np.sum(data_set,axis=1)>=100\n",
    "    return logic*1"
   ]
  },
  {
   "cell_type": "markdown",
   "metadata": {},
   "source": [
    "### a) Create the train and validation data."
   ]
  },
  {
   "cell_type": "code",
   "execution_count": 6,
   "metadata": {},
   "outputs": [],
   "source": [
    "train_set = np.random.randint(0,10,[8000,30])\n",
    "label_train = check_100(train_set)\n",
    "train_set = train_set.reshape(8000,30,1)\n",
    "\n",
    "val_set = np.random.randint(0,10,[2000,30])\n",
    "label_val = check_100(val_set)\n",
    "val_set = val_set.reshape(2000,30,1)"
   ]
  },
  {
   "cell_type": "markdown",
   "metadata": {},
   "source": [
    "### b) Build a recurrent network for number series classification."
   ]
  },
  {
   "cell_type": "code",
   "execution_count": 9,
   "metadata": {},
   "outputs": [
    {
     "name": "stdout",
     "output_type": "stream",
     "text": [
      "Model: \"sequential_1\"\n",
      "_________________________________________________________________\n",
      "Layer (type)                 Output Shape              Param #   \n",
      "=================================================================\n",
      "LSTM (LSTM)                  (None, 200)               161600    \n",
      "_________________________________________________________________\n",
      "output (Dense)               (None, 1)                 200       \n",
      "=================================================================\n",
      "Total params: 161,800\n",
      "Trainable params: 161,800\n",
      "Non-trainable params: 0\n",
      "_________________________________________________________________\n"
     ]
    }
   ],
   "source": [
    "model_lstm = keras.models.Sequential()\n",
    "\n",
    "model_lstm.add(LSTM(\n",
    "    units=200,\n",
    "    input_shape=(train_set.shape[1:]),\n",
    "    name='LSTM',\n",
    "    return_sequences = False   # we may return sequences if we need more LSTM layers. This way,\n",
    "                               # we only return the last output of network.\n",
    "\n",
    ")) \n",
    "\n",
    "model_lstm.add(Dense(\n",
    "    units=1,\n",
    "    activation='sigmoid',\n",
    "    name='output',\n",
    "    use_bias=False\n",
    "))\n",
    "\n",
    "opt_adam = keras.optimizers.Adam(\n",
    "    learning_rate=0.001,\n",
    "    beta_1=0.9,\n",
    "    beta_2=0.999,\n",
    "    epsilon=1e-08,\n",
    ")\n",
    "\n",
    "model_lstm.compile(optimizer=opt_adam,\n",
    "              loss ='binary_crossentropy', \n",
    "              metrics = 'accuracy')\n",
    "\n",
    "summ =model_lstm.summary()"
   ]
  },
  {
   "cell_type": "markdown",
   "metadata": {},
   "source": [
    "### c) Train your model."
   ]
  },
  {
   "cell_type": "code",
   "execution_count": 10,
   "metadata": {},
   "outputs": [
    {
     "name": "stdout",
     "output_type": "stream",
     "text": [
      "Epoch 1/60\n",
      "WARNING:tensorflow:From C:\\Users\\marti\\anaconda3\\lib\\site-packages\\tensorflow\\python\\ops\\summary_ops_v2.py:1277: stop (from tensorflow.python.eager.profiler) is deprecated and will be removed after 2020-07-01.\n",
      "Instructions for updating:\n",
      "use `tf.profiler.experimental.stop` instead.\n",
      "WARNING:tensorflow:Callbacks method `on_train_batch_end` is slow compared to the batch time (batch time: 0.0349s vs `on_train_batch_end` time: 0.4900s). Check your callbacks.\n",
      "128/128 - 6s - loss: 0.0634 - accuracy: 0.9820 - val_loss: 0.0266 - val_accuracy: 0.9919\n",
      "Epoch 2/60\n",
      "128/128 - 5s - loss: 0.0478 - accuracy: 0.9898 - val_loss: 0.0534 - val_accuracy: 0.9912\n",
      "Epoch 3/60\n",
      "128/128 - 5s - loss: 0.0487 - accuracy: 0.9895 - val_loss: 0.0214 - val_accuracy: 0.9925\n",
      "Epoch 4/60\n",
      "128/128 - 5s - loss: 0.0490 - accuracy: 0.9898 - val_loss: 0.0491 - val_accuracy: 0.9912\n",
      "Epoch 5/60\n",
      "128/128 - 4s - loss: 0.0436 - accuracy: 0.9887 - val_loss: 0.0259 - val_accuracy: 0.9912\n",
      "Epoch 6/60\n",
      "128/128 - 4s - loss: 0.0295 - accuracy: 0.9898 - val_loss: 0.0200 - val_accuracy: 0.9919\n",
      "Epoch 7/60\n",
      "128/128 - 5s - loss: 0.0249 - accuracy: 0.9912 - val_loss: 0.0169 - val_accuracy: 0.9950\n",
      "Epoch 8/60\n",
      "128/128 - 4s - loss: 0.0315 - accuracy: 0.9884 - val_loss: 0.0228 - val_accuracy: 0.9956\n",
      "Epoch 9/60\n",
      "128/128 - 4s - loss: 0.0257 - accuracy: 0.9894 - val_loss: 0.0145 - val_accuracy: 0.9962\n",
      "Epoch 10/60\n",
      "128/128 - 4s - loss: 0.0173 - accuracy: 0.9936 - val_loss: 0.0096 - val_accuracy: 0.9962\n",
      "Epoch 11/60\n",
      "128/128 - 4s - loss: 0.0265 - accuracy: 0.9912 - val_loss: 0.0138 - val_accuracy: 0.9950\n",
      "Epoch 12/60\n",
      "128/128 - 4s - loss: 0.0174 - accuracy: 0.9937 - val_loss: 0.0126 - val_accuracy: 0.9956\n",
      "Epoch 13/60\n",
      "128/128 - 4s - loss: 0.0201 - accuracy: 0.9923 - val_loss: 0.0225 - val_accuracy: 0.9925\n",
      "Epoch 14/60\n",
      "128/128 - 4s - loss: 0.0160 - accuracy: 0.9936 - val_loss: 0.0109 - val_accuracy: 0.9956\n",
      "Epoch 15/60\n",
      "128/128 - 4s - loss: 0.0148 - accuracy: 0.9942 - val_loss: 0.0151 - val_accuracy: 0.9956\n",
      "Epoch 16/60\n",
      "128/128 - 4s - loss: 0.0141 - accuracy: 0.9948 - val_loss: 0.0091 - val_accuracy: 0.9962\n",
      "Epoch 17/60\n",
      "128/128 - 5s - loss: 0.0110 - accuracy: 0.9956 - val_loss: 0.0161 - val_accuracy: 0.9919\n",
      "Epoch 18/60\n",
      "128/128 - 4s - loss: 0.0182 - accuracy: 0.9933 - val_loss: 0.0076 - val_accuracy: 0.9969\n",
      "Epoch 19/60\n",
      "128/128 - 4s - loss: 0.0087 - accuracy: 0.9973 - val_loss: 0.0070 - val_accuracy: 0.9969\n",
      "Epoch 20/60\n",
      "128/128 - 4s - loss: 0.0129 - accuracy: 0.9950 - val_loss: 0.0098 - val_accuracy: 0.9975\n",
      "Epoch 21/60\n",
      "128/128 - 4s - loss: 0.0114 - accuracy: 0.9952 - val_loss: 0.0077 - val_accuracy: 0.9956\n",
      "Epoch 22/60\n",
      "128/128 - 4s - loss: 0.0114 - accuracy: 0.9956 - val_loss: 0.0091 - val_accuracy: 0.9975\n",
      "Epoch 23/60\n",
      "128/128 - 4s - loss: 0.0118 - accuracy: 0.9953 - val_loss: 0.0075 - val_accuracy: 0.9975\n",
      "Epoch 24/60\n",
      "128/128 - 4s - loss: 0.0107 - accuracy: 0.9956 - val_loss: 0.0080 - val_accuracy: 0.9981\n",
      "Epoch 25/60\n",
      "128/128 - 4s - loss: 0.0079 - accuracy: 0.9970 - val_loss: 0.0063 - val_accuracy: 0.9981\n",
      "Epoch 26/60\n",
      "128/128 - 4s - loss: 0.0107 - accuracy: 0.9955 - val_loss: 0.0091 - val_accuracy: 0.9962\n",
      "Epoch 27/60\n",
      "128/128 - 4s - loss: 0.0104 - accuracy: 0.9956 - val_loss: 0.0104 - val_accuracy: 0.9956\n",
      "Epoch 28/60\n",
      "128/128 - 4s - loss: 0.0101 - accuracy: 0.9961 - val_loss: 0.0057 - val_accuracy: 0.9987\n",
      "Epoch 29/60\n",
      "128/128 - 4s - loss: 0.0092 - accuracy: 0.9956 - val_loss: 0.0093 - val_accuracy: 0.9956\n",
      "Epoch 30/60\n",
      "128/128 - 4s - loss: 0.0103 - accuracy: 0.9964 - val_loss: 0.0065 - val_accuracy: 0.9981\n",
      "Epoch 31/60\n",
      "128/128 - 4s - loss: 0.0092 - accuracy: 0.9964 - val_loss: 0.0077 - val_accuracy: 0.9975\n",
      "Epoch 32/60\n",
      "128/128 - 4s - loss: 0.0110 - accuracy: 0.9955 - val_loss: 0.0142 - val_accuracy: 0.9950\n",
      "Epoch 33/60\n",
      "128/128 - 5s - loss: 0.0121 - accuracy: 0.9955 - val_loss: 0.0079 - val_accuracy: 0.9981\n",
      "Epoch 34/60\n",
      "128/128 - 4s - loss: 0.0114 - accuracy: 0.9966 - val_loss: 0.0096 - val_accuracy: 0.9962\n",
      "Epoch 35/60\n",
      "128/128 - 4s - loss: 0.0099 - accuracy: 0.9942 - val_loss: 0.0084 - val_accuracy: 0.9962\n",
      "Epoch 36/60\n",
      "128/128 - 4s - loss: 0.0079 - accuracy: 0.9973 - val_loss: 0.0070 - val_accuracy: 0.9969\n",
      "Epoch 37/60\n",
      "128/128 - 4s - loss: 0.0099 - accuracy: 0.9961 - val_loss: 0.0078 - val_accuracy: 0.9956\n",
      "Epoch 38/60\n",
      "128/128 - 4s - loss: 0.0076 - accuracy: 0.9964 - val_loss: 0.0069 - val_accuracy: 0.9962\n",
      "Epoch 39/60\n",
      "128/128 - 4s - loss: 0.0078 - accuracy: 0.9977 - val_loss: 0.0059 - val_accuracy: 0.9969\n",
      "Epoch 40/60\n",
      "128/128 - 4s - loss: 0.0114 - accuracy: 0.9959 - val_loss: 0.0110 - val_accuracy: 0.9962\n",
      "Epoch 41/60\n",
      "128/128 - 4s - loss: 0.0061 - accuracy: 0.9973 - val_loss: 0.0079 - val_accuracy: 0.9969\n",
      "Epoch 42/60\n",
      "128/128 - 4s - loss: 0.0074 - accuracy: 0.9973 - val_loss: 0.0106 - val_accuracy: 0.9956\n",
      "Epoch 43/60\n",
      "128/128 - 4s - loss: 0.0084 - accuracy: 0.9969 - val_loss: 0.0068 - val_accuracy: 0.9969\n",
      "Epoch 44/60\n",
      "128/128 - 4s - loss: 0.0055 - accuracy: 0.9980 - val_loss: 0.0101 - val_accuracy: 0.9956\n",
      "Epoch 45/60\n",
      "128/128 - 4s - loss: 0.0079 - accuracy: 0.9972 - val_loss: 0.0089 - val_accuracy: 0.9962\n",
      "Epoch 46/60\n",
      "128/128 - 4s - loss: 0.0069 - accuracy: 0.9970 - val_loss: 0.0076 - val_accuracy: 0.9969\n",
      "Epoch 47/60\n",
      "128/128 - 4s - loss: 0.0128 - accuracy: 0.9959 - val_loss: 0.0057 - val_accuracy: 0.9981\n",
      "Epoch 48/60\n",
      "128/128 - 4s - loss: 0.0069 - accuracy: 0.9969 - val_loss: 0.0123 - val_accuracy: 0.9950\n",
      "Epoch 49/60\n",
      "128/128 - 4s - loss: 0.0065 - accuracy: 0.9972 - val_loss: 0.0052 - val_accuracy: 0.9969\n",
      "Epoch 50/60\n",
      "128/128 - 4s - loss: 0.0055 - accuracy: 0.9981 - val_loss: 0.0045 - val_accuracy: 0.9981\n",
      "Epoch 51/60\n",
      "128/128 - 4s - loss: 0.0057 - accuracy: 0.9978 - val_loss: 0.0051 - val_accuracy: 0.9981\n",
      "Epoch 52/60\n",
      "128/128 - 4s - loss: 0.0058 - accuracy: 0.9981 - val_loss: 0.0084 - val_accuracy: 0.9962\n",
      "Epoch 53/60\n",
      "128/128 - 4s - loss: 0.0053 - accuracy: 0.9981 - val_loss: 0.0045 - val_accuracy: 0.9981\n",
      "Epoch 54/60\n",
      "128/128 - 4s - loss: 0.0070 - accuracy: 0.9967 - val_loss: 0.0182 - val_accuracy: 0.9925\n",
      "Epoch 55/60\n",
      "128/128 - 4s - loss: 0.0086 - accuracy: 0.9973 - val_loss: 0.0063 - val_accuracy: 0.9969\n",
      "Epoch 56/60\n",
      "128/128 - 4s - loss: 0.0056 - accuracy: 0.9980 - val_loss: 0.0105 - val_accuracy: 0.9969\n",
      "Epoch 57/60\n",
      "128/128 - 4s - loss: 0.0043 - accuracy: 0.9986 - val_loss: 0.0045 - val_accuracy: 0.9981\n",
      "Epoch 58/60\n",
      "128/128 - 4s - loss: 0.0038 - accuracy: 0.9986 - val_loss: 0.0047 - val_accuracy: 0.9981\n",
      "Epoch 59/60\n",
      "128/128 - 4s - loss: 0.0102 - accuracy: 0.9970 - val_loss: 0.0115 - val_accuracy: 0.9950\n",
      "Epoch 60/60\n",
      "128/128 - 4s - loss: 0.0050 - accuracy: 0.9978 - val_loss: 0.0045 - val_accuracy: 0.9981\n"
     ]
    }
   ],
   "source": [
    "log_dir = \"logs/fit/model_lstm\" + datetime.datetime.now().strftime(\"%Y%m%d-%H%M%S\") \n",
    "tensorboard_callback = keras.callbacks.TensorBoard(log_dir=log_dir, histogram_freq=1)\n",
    "\n",
    "history = model_lstm.fit(\n",
    "    x=train_set,\n",
    "    y=label_train,\n",
    "    batch_size=50,\n",
    "    epochs=60,\n",
    "    callbacks = [tensorboard_callback],\n",
    "    validation_split = 0.2,\n",
    "    validation_data=(val_set, label_val),\n",
    "    shuffle=True,\n",
    "    verbose=2, # print one line per epoch\n",
    "    \n",
    ")"
   ]
  },
  {
   "cell_type": "code",
   "execution_count": 13,
   "metadata": {},
   "outputs": [
    {
     "name": "stdout",
     "output_type": "stream",
     "text": [
      "INFO:tensorflow:Assets written to: model_lstm20201228-143747.model\\assets\n"
     ]
    }
   ],
   "source": [
    "model_lstm.save(log_dir[9::]+'.model') # save the trained model (Martin)"
   ]
  },
  {
   "cell_type": "markdown",
   "metadata": {},
   "source": [
    "## 1) Evaluate the final accuracy of the model on the validation data."
   ]
  },
  {
   "cell_type": "code",
   "execution_count": 16,
   "metadata": {},
   "outputs": [
    {
     "data": {
      "text/plain": [
       "ERROR: Timed out waiting for TensorBoard to start. It may still be running as pid 4384."
      ]
     },
     "metadata": {},
     "output_type": "display_data"
    }
   ],
   "source": [
    "# %tensorboard --logdir /logs/"
   ]
  },
  {
   "cell_type": "code",
   "execution_count": 33,
   "metadata": {},
   "outputs": [
    {
     "name": "stdout",
     "output_type": "stream",
     "text": [
      "The final validation accuracy is 0.9981250166893005\n"
     ]
    },
    {
     "data": {
      "image/png": "[encoded data removed]",
      "text/plain": [
       "<Figure size 432x288 with 1 Axes>"
      ]
     },
     "metadata": {
      "needs_background": "light"
     },
     "output_type": "display_data"
    }
   ],
   "source": [
    "val_acc = history.history['val_accuracy']\n",
    "ind = np.arange(1,len(val_acc)+1,1)\n",
    "plt.scatter(ind,val_acc)\n",
    "\n",
    "print('The final validation accuracy is ' + str(val_acc[-1]))"
   ]
  },
  {
   "cell_type": "markdown",
   "metadata": {},
   "source": [
    "## 2) Discuss the validity of the accuracy measure in relation to that distribution and possible alternatives."
   ]
  },
  {
   "cell_type": "code",
   "execution_count": 47,
   "metadata": {},
   "outputs": [
    {
     "name": "stdout",
     "output_type": "stream",
     "text": [
      "The percentage of training negative cases is 1.0125 and the percentage of validation negative cases is 1.15\n"
     ]
    }
   ],
   "source": [
    "perc_neg = sum(label_train==0)/len(label_train)*100\n",
    "perc_pos = 100-perc_neg\n",
    "\n",
    "perc_neg_val = sum(label_val==0)/len(label_val)*100\n",
    "perc_pos_val = 100-perc_neg_val\n",
    "\n",
    "print('The percentage of training negative cases is ' + str(perc_neg) + ' and the percentage of validation negative cases is ' + str(perc_neg_val))"
   ]
  },
  {
   "cell_type": "markdown",
   "metadata": {},
   "source": [
    "That means that almost every possible sum will yield a positive outcome and for computational sake, it would be easier to implement a function that says that all series have a sum >= 100, with a probable accuracy of ~ 99 %."
   ]
  }
 ],
 "metadata": {
  "kernelspec": {
   "display_name": "Python 3",
   "language": "python",
   "name": "python3"
  },
  "language_info": {
   "codemirror_mode": {
    "name": "ipython",
    "version": 3
   },
   "file_extension": ".py",
   "mimetype": "text/x-python",
   "name": "python",
   "nbconvert_exporter": "python",
   "pygments_lexer": "ipython3",
   "version": "3.8.3"
  }
 },
 "nbformat": 4,
 "nbformat_minor": 4
}
