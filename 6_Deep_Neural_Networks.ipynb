{
 "cells": [
  {
   "cell_type": "code",
   "execution_count": 37,
   "metadata": {},
   "outputs": [],
   "source": [
    "import pandas as pd\n",
    "import numpy as np\n",
    "import matplotlib.pyplot as plt\n",
    "import seaborn as sn\n",
    "import datetime\n",
    "\n",
    "import tensorflow as tf\n",
    "from tensorflow import keras"
   ]
  },
  {
   "cell_type": "markdown",
   "metadata": {},
   "source": [
    "## Preprocess data\n",
    "\n",
    "labels: turn valuen 0-9 into one hot encoding-> l_new = p.zeros(10); l_new[label_old] = 1 should do the job-> function is provided: keras.utils.to_categorical\n",
    "\n",
    "inputs: normalize to be between 0 and one instead of 0-255\n",
    "\n",
    "resources: \n",
    "https://www.youtube.com/watch?v=J6Ok8p463C4 (Google - Getting Started with Keras)\n",
    "\n",
    "https://keras.io/api/layers/activations/ activation functions in Keras\n",
    "\n",
    "https://data-flair.training/blogs/keras-loss-functions/ loss functions \n",
    "\n",
    "https://www.tutorialspoint.com/keras/keras_model_compilation.htm model compilation\n",
    "\n",
    "https://stackoverflow.com/questions/50568409/report-keras-model-evaluation-metrics-every-10-epochs & https://keras.io/guides/writing_your_own_callbacks/ custom callbacks\n",
    "\n",
    "https://www.programcreek.com/python/example/89706/keras.layers.Dropout seed in Dropout-Layer (NOT YET USED) \n",
    "\n",
    "https://www.machinecurve.com/index.php/2019/12/18/how-to-use-dropout-with-keras/ \"𝑝≈0.5. This value has shown the best empirical results when being tested with the MNIST dataset.\" -> https://jmlr.org/papers/v15/srivastava14a.html"
   ]
  },
  {
   "cell_type": "code",
   "execution_count": 25,
   "metadata": {},
   "outputs": [],
   "source": [
    "(x_train, y_train), (x_test, y_test) = keras.datasets.mnist.load_data()\n",
    "\n",
    "num = 10\n",
    "\n",
    "y_train = keras.utils.to_categorical(y_train,num)\n",
    "y_test = keras.utils.to_categorical(y_test,num)\n",
    "\n",
    "x_train = tf.keras.utils.normalize(x_train,axis=1)\n",
    "x_test = tf.keras.utils.normalize(x_test,axis=1)\n",
    "\n",
    "x_train_orig = x_train\n",
    "x_test_orig = x_test\n",
    "\n",
    "x_train = x_train.reshape(x_train.shape[0],-1)\n",
    "x_test = np.zeros((x_test.shape[0],784))\n",
    "\n",
    "for j in range(0,len(x_test)):\n",
    "    x_test[j,:] = np.ndarray.flatten(X_test[j,:,:])"
   ]
  },
  {
   "cell_type": "markdown",
   "metadata": {},
   "source": [
    "## Ex. 1) Linear model"
   ]
  },
  {
   "cell_type": "code",
   "execution_count": 3,
   "metadata": {},
   "outputs": [],
   "source": [
    "model1 = keras.Sequential(\n",
    "    [\n",
    "        keras.Input(shape=(784,),name='digits'),\n",
    "        keras.layers.Dense(10,activation = 'softmax',\n",
    "                             name='predictions',\n",
    "                             kernel_initializer='zeros',\n",
    "                             bias_initializer='zeros',),\n",
    "    ]\n",
    ")\n",
    "\n",
    "sgd_model = keras.optimizers.SGD(learning_rate=0.5,momentum=0.0)\n",
    "model1.compile(optimizer=sgd_model,\n",
    "              loss ='categorical_crossentropy', \n",
    "              metrics = 'accuracy')\n",
    "\n",
    "b_size = 100\n",
    "num_iter = 10000\n",
    "\n",
    "num_epoch = round(num_iter/(x_train.shape[0]/b_size))"
   ]
  },
  {
   "cell_type": "code",
   "execution_count": 4,
   "metadata": {},
   "outputs": [
    {
     "name": "stdout",
     "output_type": "stream",
     "text": [
      "Epoch 1/17\n",
      "600/600 [==============================] - 1s 1ms/step - loss: 0.5397 - accuracy: 0.8686\n",
      "Epoch 2/17\n",
      "600/600 [==============================] - 1s 1ms/step - loss: 0.3556 - accuracy: 0.9014\n",
      "Epoch 3/17\n",
      "600/600 [==============================] - 1s 1ms/step - loss: 0.3262 - accuracy: 0.9091\n",
      "Epoch 4/17\n",
      "600/600 [==============================] - 1s 1ms/step - loss: 0.3107 - accuracy: 0.9130\n",
      "Epoch 5/17\n",
      "600/600 [==============================] - 1s 1ms/step - loss: 0.3004 - accuracy: 0.9161\n",
      "Epoch 6/17\n",
      "600/600 [==============================] - 1s 983us/step - loss: 0.2930 - accuracy: 0.9182\n",
      "Epoch 7/17\n",
      "600/600 [==============================] - 1s 981us/step - loss: 0.2872 - accuracy: 0.9199\n",
      "Epoch 8/17\n",
      "600/600 [==============================] - 1s 1ms/step - loss: 0.2826 - accuracy: 0.9211\n",
      "Epoch 9/17\n",
      "600/600 [==============================] - 1s 986us/step - loss: 0.2789 - accuracy: 0.9216\n",
      "Epoch 10/17\n",
      "600/600 [==============================] - 1s 990us/step - loss: 0.2757 - accuracy: 0.9228\n",
      "Epoch 11/17\n",
      "600/600 [==============================] - 1s 1ms/step - loss: 0.2729 - accuracy: 0.9237\n",
      "Epoch 12/17\n",
      "600/600 [==============================] - 1s 992us/step - loss: 0.2704 - accuracy: 0.9240\n",
      "Epoch 13/17\n",
      "600/600 [==============================] - 1s 1ms/step - loss: 0.2682 - accuracy: 0.9244\n",
      "Epoch 14/17\n",
      "600/600 [==============================] - 1s 997us/step - loss: 0.2662 - accuracy: 0.9251\n",
      "Epoch 15/17\n",
      "600/600 [==============================] - 1s 989us/step - loss: 0.2645 - accuracy: 0.9250\n",
      "Epoch 16/17\n",
      "600/600 [==============================] - 1s 1ms/step - loss: 0.2631 - accuracy: 0.9257\n",
      "Epoch 17/17\n",
      "600/600 [==============================] - 1s 1ms/step - loss: 0.2614 - accuracy: 0.9265\n",
      "Model: \"sequential\"\n",
      "_________________________________________________________________\n",
      "Layer (type)                 Output Shape              Param #   \n",
      "=================================================================\n",
      "predictions (Dense)          (None, 10)                7850      \n",
      "=================================================================\n",
      "Total params: 7,850\n",
      "Trainable params: 7,850\n",
      "Non-trainable params: 0\n",
      "_________________________________________________________________\n"
     ]
    }
   ],
   "source": [
    "history1 = model1.fit(x_train,y_train,batch_size=100,epochs=num_epoch)\n",
    "summ1 =model1.summary()"
   ]
  },
  {
   "cell_type": "code",
   "execution_count": null,
   "metadata": {},
   "outputs": [],
   "source": [
    "log_dir_lin = \"logs/fit/model_lin\" + datetime.datetime.now().strftime(\"%Y%m%d-%H%M%S\")\n",
    "#log_dir_lin = \"logs/fit/model_lin_no_update_freq\"\n",
    "tensorboard_callback_lin = keras.callbacks.TensorBoard(\n",
    "                            log_dir=log_dir_lin, \n",
    "                            histogram_freq=1, \n",
    "                            update_freq=100) # should save progress every 100 batches BUT DIDNT REALLY...\n",
    "\n",
    "history_callback_lin = model_lin.fit(  # https://keras.io/api/models/model_training_apis/\n",
    "        x=X_train,  # training data\n",
    "        y=y_train,  # training labels\n",
    "        batch_size=BATCH_SIZE,\n",
    "        #epochs=EPOCHS,\n",
    "        epochs=EPOCHS,\n",
    "        verbose=2, # print one line per epoch\n",
    "        #callbacks=None,\n",
    "        #callbacks=[CustomCallback()],\n",
    "        callbacks = [tensorboard_callback_lin],\n",
    "        #validation_split=0.0,\n",
    "        #validation_data=None,\n",
    "        validation_data=(X_test, y_test),\n",
    "        shuffle=True, # shuffle training data before each epoch\n",
    "        #class_weight=None,\n",
    "        #sample_weight=None,\n",
    "        initial_epoch=0, # 'useful for resuming a previous training run'\n",
    "        #initial_epoch=ep, # 'useful for resuming a previous training run'\n",
    "        #steps_per_epoch=100,\n",
    "        steps_per_epoch=None, # 'default None is equal to the number of samples \n",
    "                          # in your dataset divided by the batch size'\n",
    "                          # 60000/100 = 600 steps per epoch, \n",
    "                          # 10000 iterations should be run in total -> 10000/600 = 16.666 ~ 17\n",
    "        #validation_steps=None,\n",
    "        #validation_batch_size=None,\n",
    "        #validation_freq=1,\n",
    "        #max_queue_size=10,\n",
    "        #workers=1,\n",
    "        #use_multiprocessing=False,\n",
    ")\n",
    "\n",
    "\n",
    "loss_history_lin = history_callback_lin.history[\"loss\"]\n",
    "\n",
    "numpy_loss_history = np.array(loss_history_lin)\n",
    "np.savetxt(\"loss_history_\"+ log_dir_lin[9::] +\".txt\", numpy_loss_history, delimiter=\",\")"
   ]
  },
  {
   "cell_type": "code",
   "execution_count": 40,
   "metadata": {},
   "outputs": [],
   "source": [
    "loss1 = history1.history['loss']\n",
    "acc1 = history1.history['accuracy']"
   ]
  },
  {
   "cell_type": "code",
   "execution_count": 6,
   "metadata": {},
   "outputs": [
    {
     "name": "stdout",
     "output_type": "stream",
     "text": [
      "100/100 [==============================] - 0s 819us/step - loss: 0.2702 - accuracy: 0.9231\n"
     ]
    },
    {
     "data": {
      "text/plain": [
       "[<matplotlib.lines.Line2D at 0x16c7f2ca940>]"
      ]
     },
     "execution_count": 6,
     "metadata": {},
     "output_type": "execute_result"
    },
    {
     "data": {
      "image/png": "[encoded data removed]",
      "text/plain": [
       "<Figure size 432x288 with 1 Axes>"
      ]
     },
     "metadata": {
      "needs_background": "light"
     },
     "output_type": "display_data"
    }
   ],
   "source": [
    "results1 = model1.evaluate(x_test, y_test,batch_size=100)\n",
    "\n",
    "plt.plot(acc)"
   ]
  },
  {
   "cell_type": "markdown",
   "metadata": {},
   "source": [
    "## Second model"
   ]
  },
  {
   "cell_type": "code",
   "execution_count": 7,
   "metadata": {},
   "outputs": [],
   "source": [
    "weight_init = tf.keras.initializers.TruncatedNormal(mean=0, stddev=0.01)\n",
    "biases_init = tf.keras.initializers.Constant(0.1)\n",
    "\n",
    "model2 = tf.keras.models.Sequential(\n",
    "    [\n",
    "        keras.Input(shape=(784,),name='digits'),\n",
    "        keras.layers.Dense(1500, activation=\"relu\", kernel_initializer=weight_init,bias_initializer= biases_init, name=\"dense_1\"),\n",
    "        keras.layers.Dense(1500, activation=\"relu\",kernel_initializer=weight_init,bias_initializer=biases_init, name=\"dense_2\"),\n",
    "        keras.layers.Dense(1500, activation=\"relu\",kernel_initializer=weight_init,bias_initializer=biases_init,name=\"dense_3\"),\n",
    "        keras.layers.Dense(10,activation = 'softmax', name='predictions', kernel_initializer=weight_init,bias_initializer=biases_init),\n",
    "    ]\n",
    ")"
   ]
  },
  {
   "cell_type": "code",
   "execution_count": 8,
   "metadata": {},
   "outputs": [],
   "source": [
    "opt_adam = keras.optimizers.Adam(\n",
    "    learning_rate=0.001,\n",
    "    beta_1=0.9,\n",
    "    beta_2=0.999,\n",
    "    epsilon=1e-08,\n",
    ")\n",
    "\n",
    "model2.compile(optimizer=opt_adam,\n",
    "              loss ='categorical_crossentropy', \n",
    "              metrics = 'accuracy')\n",
    "\n",
    "num_iter2 = 20000\n",
    "num_epoch2 = round(num_iter2/(x_train.shape[0]/b_size))"
   ]
  },
  {
   "cell_type": "code",
   "execution_count": 9,
   "metadata": {},
   "outputs": [
    {
     "name": "stdout",
     "output_type": "stream",
     "text": [
      "Epoch 1/33\n",
      "600/600 [==============================] - 33s 54ms/step - loss: 0.2708 - accuracy: 0.9168\n",
      "Epoch 2/33\n",
      "600/600 [==============================] - 33s 56ms/step - loss: 0.0928 - accuracy: 0.9717\n",
      "Epoch 3/33\n",
      "600/600 [==============================] - 33s 55ms/step - loss: 0.0633 - accuracy: 0.9809\n",
      "Epoch 4/33\n",
      "600/600 [==============================] - 33s 54ms/step - loss: 0.0470 - accuracy: 0.9851\n",
      "Epoch 5/33\n",
      "600/600 [==============================] - 33s 54ms/step - loss: 0.0360 - accuracy: 0.9887\n",
      "Epoch 6/33\n",
      "600/600 [==============================] - 35s 58ms/step - loss: 0.0319 - accuracy: 0.9903\n",
      "Epoch 7/33\n",
      "600/600 [==============================] - 34s 56ms/step - loss: 0.0263 - accuracy: 0.9922\n",
      "Epoch 8/33\n",
      "600/600 [==============================] - 33s 55ms/step - loss: 0.0208 - accuracy: 0.9936\n",
      "Epoch 9/33\n",
      "600/600 [==============================] - 34s 56ms/step - loss: 0.0233 - accuracy: 0.9928\n",
      "Epoch 10/33\n",
      "600/600 [==============================] - 37s 61ms/step - loss: 0.0169 - accuracy: 0.9948\n",
      "Epoch 11/33\n",
      "600/600 [==============================] - 36s 59ms/step - loss: 0.0153 - accuracy: 0.99550s - loss: 0.0153 \n",
      "Epoch 12/33\n",
      "600/600 [==============================] - 35s 58ms/step - loss: 0.0140 - accuracy: 0.9957\n",
      "Epoch 13/33\n",
      "600/600 [==============================] - 35s 59ms/step - loss: 0.0163 - accuracy: 0.9949\n",
      "Epoch 14/33\n",
      "600/600 [==============================] - 35s 58ms/step - loss: 0.0096 - accuracy: 0.9974\n",
      "Epoch 15/33\n",
      "600/600 [==============================] - 35s 58ms/step - loss: 0.0110 - accuracy: 0.9970\n",
      "Epoch 16/33\n",
      "600/600 [==============================] - 37s 61ms/step - loss: 0.0146 - accuracy: 0.9961\n",
      "Epoch 17/33\n",
      "600/600 [==============================] - 37s 61ms/step - loss: 0.0106 - accuracy: 0.9968\n",
      "Epoch 18/33\n",
      "600/600 [==============================] - 38s 64ms/step - loss: 0.0115 - accuracy: 0.9970\n",
      "Epoch 19/33\n",
      "600/600 [==============================] - 38s 63ms/step - loss: 0.0094 - accuracy: 0.9976\n",
      "Epoch 20/33\n",
      "600/600 [==============================] - 36s 60ms/step - loss: 0.0129 - accuracy: 0.9966\n",
      "Epoch 21/33\n",
      "600/600 [==============================] - 36s 60ms/step - loss: 0.0073 - accuracy: 0.9980\n",
      "Epoch 22/33\n",
      "600/600 [==============================] - 36s 61ms/step - loss: 0.0109 - accuracy: 0.9975\n",
      "Epoch 23/33\n",
      "600/600 [==============================] - 39s 64ms/step - loss: 0.0069 - accuracy: 0.9982\n",
      "Epoch 24/33\n",
      "600/600 [==============================] - 38s 64ms/step - loss: 0.0069 - accuracy: 0.9982\n",
      "Epoch 25/33\n",
      "600/600 [==============================] - 42s 71ms/step - loss: 0.0127 - accuracy: 0.9971\n",
      "Epoch 26/33\n",
      "600/600 [==============================] - 37s 62ms/step - loss: 0.0108 - accuracy: 0.9973\n",
      "Epoch 27/33\n",
      "600/600 [==============================] - 38s 63ms/step - loss: 0.0063 - accuracy: 0.9984\n",
      "Epoch 28/33\n",
      "600/600 [==============================] - 37s 62ms/step - loss: 0.0080 - accuracy: 0.9982\n",
      "Epoch 29/33\n",
      "600/600 [==============================] - 38s 63ms/step - loss: 0.0094 - accuracy: 0.9979\n",
      "Epoch 30/33\n",
      "600/600 [==============================] - 37s 62ms/step - loss: 0.0106 - accuracy: 0.9975\n",
      "Epoch 31/33\n",
      "600/600 [==============================] - 35s 58ms/step - loss: 0.0088 - accuracy: 0.9980\n",
      "Epoch 32/33\n",
      "600/600 [==============================] - 35s 58ms/step - loss: 0.0084 - accuracy: 0.9979\n",
      "Epoch 33/33\n",
      "600/600 [==============================] - 35s 58ms/step - loss: 0.0079 - accuracy: 0.9981\n",
      "Model: \"sequential_1\"\n",
      "_________________________________________________________________\n",
      "Layer (type)                 Output Shape              Param #   \n",
      "=================================================================\n",
      "dense_1 (Dense)              (None, 1500)              1177500   \n",
      "_________________________________________________________________\n",
      "dense_2 (Dense)              (None, 1500)              2251500   \n",
      "_________________________________________________________________\n",
      "dense_3 (Dense)              (None, 1500)              2251500   \n",
      "_________________________________________________________________\n",
      "predictions (Dense)          (None, 10)                15010     \n",
      "=================================================================\n",
      "Total params: 5,695,510\n",
      "Trainable params: 5,695,510\n",
      "Non-trainable params: 0\n",
      "_________________________________________________________________\n"
     ]
    }
   ],
   "source": [
    "history2 = model2.fit(x_train,y_train,batch_size=100,epochs=num_epoch2)\n",
    "summ2 =model2.summary()"
   ]
  },
  {
   "cell_type": "code",
   "execution_count": 10,
   "metadata": {},
   "outputs": [
    {
     "name": "stdout",
     "output_type": "stream",
     "text": [
      "100/100 [==============================] - 1s 11ms/step - loss: 0.1567 - accuracy: 0.9808\n"
     ]
    },
    {
     "data": {
      "text/plain": [
       "[<matplotlib.lines.Line2D at 0x16c1fcfb910>]"
      ]
     },
     "execution_count": 10,
     "metadata": {},
     "output_type": "execute_result"
    },
    {
     "data": {
      "image/png": "[encoded data removed]",
      "text/plain": [
       "<Figure size 432x288 with 1 Axes>"
      ]
     },
     "metadata": {
      "needs_background": "light"
     },
     "output_type": "display_data"
    }
   ],
   "source": [
    "loss2 = history2.history['loss']\n",
    "acc2 = history2.history['accuracy']\n",
    "\n",
    "results2 = model2.evaluate(x_test, y_test,batch_size=100)\n",
    "\n",
    "plt.plot(acc2)"
   ]
  },
  {
   "cell_type": "markdown",
   "metadata": {},
   "source": [
    "## Third model"
   ]
  },
  {
   "cell_type": "code",
   "execution_count": 18,
   "metadata": {},
   "outputs": [],
   "source": [
    "model3 = keras.Sequential(\n",
    "    [\n",
    "        keras.Input(shape=(784,),name='digits'),\n",
    "        keras.layers.Dense(1500, activation=\"relu\", kernel_initializer=weight_init,bias_initializer= biases_init, name=\"dense_1\"),\n",
    "        keras.layers.Dropout(0.5),\n",
    "        keras.layers.Dense(1500, activation=\"relu\",kernel_initializer=weight_init,bias_initializer=biases_init, name=\"dense_2\"),\n",
    "        keras.layers.Dropout(0.5),\n",
    "        keras.layers.Dense(1500, activation=\"relu\",kernel_initializer=weight_init,bias_initializer=biases_init,name=\"dense_3\"),\n",
    "        keras.layers.Dropout(0.5),\n",
    "        keras.layers.Dense(10,activation = 'softmax', name='predictions', kernel_initializer=weight_init,bias_initializer=biases_init),\n",
    "    ]\n",
    ")\n",
    "\n",
    "model3.compile(optimizer=opt_adam,\n",
    "              loss ='categorical_crossentropy', \n",
    "              metrics = 'accuracy')"
   ]
  },
  {
   "cell_type": "code",
   "execution_count": 19,
   "metadata": {},
   "outputs": [
    {
     "name": "stdout",
     "output_type": "stream",
     "text": [
      "Epoch 1/33\n",
      "600/600 [==============================] - 35s 59ms/step - loss: 0.4254 - accuracy: 0.8690\n",
      "Epoch 2/33\n",
      "600/600 [==============================] - 35s 58ms/step - loss: 0.2098 - accuracy: 0.9400\n",
      "Epoch 3/33\n",
      "600/600 [==============================] - 37s 61ms/step - loss: 0.1725 - accuracy: 0.95060s - loss: 0.173\n",
      "Epoch 4/33\n",
      "600/600 [==============================] - 37s 62ms/step - loss: 0.1550 - accuracy: 0.9546\n",
      "Epoch 5/33\n",
      "600/600 [==============================] - 36s 60ms/step - loss: 0.1400 - accuracy: 0.9602\n",
      "Epoch 6/33\n",
      "600/600 [==============================] - 35s 59ms/step - loss: 0.1270 - accuracy: 0.9628\n",
      "Epoch 7/33\n",
      "600/600 [==============================] - 35s 58ms/step - loss: 0.1191 - accuracy: 0.9644\n",
      "Epoch 8/33\n",
      "600/600 [==============================] - 36s 60ms/step - loss: 0.1104 - accuracy: 0.9671\n",
      "Epoch 9/33\n",
      "600/600 [==============================] - 35s 59ms/step - loss: 0.1068 - accuracy: 0.9693\n",
      "Epoch 10/33\n",
      "600/600 [==============================] - 35s 58ms/step - loss: 0.0995 - accuracy: 0.9713\n",
      "Epoch 11/33\n",
      "600/600 [==============================] - 36s 59ms/step - loss: 0.1001 - accuracy: 0.9702\n",
      "Epoch 12/33\n",
      "600/600 [==============================] - 36s 59ms/step - loss: 0.0944 - accuracy: 0.9727\n",
      "Epoch 13/33\n",
      "600/600 [==============================] - 36s 60ms/step - loss: 0.0939 - accuracy: 0.9731\n",
      "Epoch 14/33\n",
      "600/600 [==============================] - 36s 60ms/step - loss: 0.0900 - accuracy: 0.9736\n",
      "Epoch 15/33\n",
      "600/600 [==============================] - 38s 63ms/step - loss: 0.0888 - accuracy: 0.9744\n",
      "Epoch 16/33\n",
      "600/600 [==============================] - 38s 63ms/step - loss: 0.0845 - accuracy: 0.9756\n",
      "Epoch 17/33\n",
      "600/600 [==============================] - 38s 63ms/step - loss: 0.0820 - accuracy: 0.9762\n",
      "Epoch 18/33\n",
      "600/600 [==============================] - 38s 63ms/step - loss: 0.0806 - accuracy: 0.9766\n",
      "Epoch 19/33\n",
      "600/600 [==============================] - 36s 60ms/step - loss: 0.0777 - accuracy: 0.9781\n",
      "Epoch 20/33\n",
      "600/600 [==============================] - 36s 60ms/step - loss: 0.0802 - accuracy: 0.9769\n",
      "Epoch 21/33\n",
      "600/600 [==============================] - 36s 61ms/step - loss: 0.0772 - accuracy: 0.9782\n",
      "Epoch 22/33\n",
      "600/600 [==============================] - 37s 61ms/step - loss: 0.0736 - accuracy: 0.9786\n",
      "Epoch 23/33\n",
      "600/600 [==============================] - 36s 60ms/step - loss: 0.0747 - accuracy: 0.97901s - loss: 0.0748 - accura - ETA: 1s - loss: 0.0745 - accuracy - ETA: \n",
      "Epoch 24/33\n",
      "600/600 [==============================] - 37s 61ms/step - loss: 0.0688 - accuracy: 0.9794\n",
      "Epoch 25/33\n",
      "600/600 [==============================] - 36s 60ms/step - loss: 0.0711 - accuracy: 0.9799\n",
      "Epoch 26/33\n",
      "600/600 [==============================] - 35s 59ms/step - loss: 0.0735 - accuracy: 0.9802\n",
      "Epoch 27/33\n",
      "600/600 [==============================] - 36s 60ms/step - loss: 0.0678 - accuracy: 0.9806\n",
      "Epoch 28/33\n",
      "600/600 [==============================] - 38s 63ms/step - loss: 0.0733 - accuracy: 0.97940s -\n",
      "Epoch 29/33\n",
      "600/600 [==============================] - 36s 60ms/step - loss: 0.0685 - accuracy: 0.98070s\n",
      "Epoch 30/33\n",
      "600/600 [==============================] - 36s 61ms/step - loss: 0.0691 - accuracy: 0.9807\n",
      "Epoch 31/33\n",
      "600/600 [==============================] - 37s 61ms/step - loss: 0.0712 - accuracy: 0.9804\n",
      "Epoch 32/33\n",
      "600/600 [==============================] - 36s 60ms/step - loss: 0.0670 - accuracy: 0.9802\n",
      "Epoch 33/33\n",
      "600/600 [==============================] - 36s 60ms/step - loss: 0.0681 - accuracy: 0.9819\n",
      "Model: \"sequential_5\"\n",
      "_________________________________________________________________\n",
      "Layer (type)                 Output Shape              Param #   \n",
      "=================================================================\n",
      "dense_1 (Dense)              (None, 1500)              1177500   \n",
      "_________________________________________________________________\n",
      "dropout_6 (Dropout)          (None, 1500)              0         \n",
      "_________________________________________________________________\n",
      "dense_2 (Dense)              (None, 1500)              2251500   \n",
      "_________________________________________________________________\n",
      "dropout_7 (Dropout)          (None, 1500)              0         \n",
      "_________________________________________________________________\n",
      "dense_3 (Dense)              (None, 1500)              2251500   \n",
      "_________________________________________________________________\n",
      "dropout_8 (Dropout)          (None, 1500)              0         \n",
      "_________________________________________________________________\n",
      "predictions (Dense)          (None, 10)                15010     \n",
      "=================================================================\n",
      "Total params: 5,695,510\n",
      "Trainable params: 5,695,510\n",
      "Non-trainable params: 0\n",
      "_________________________________________________________________\n"
     ]
    }
   ],
   "source": [
    "history3 = model3.fit(x_train,y_train,batch_size=100,epochs=num_epoch2)\n",
    "summ3 =model3.summary()"
   ]
  },
  {
   "cell_type": "code",
   "execution_count": 20,
   "metadata": {},
   "outputs": [
    {
     "name": "stdout",
     "output_type": "stream",
     "text": [
      "100/100 [==============================] - 1s 11ms/step - loss: 0.0827 - accuracy: 0.9785\n"
     ]
    },
    {
     "data": {
      "text/plain": [
       "[<matplotlib.lines.Line2D at 0x16c1ef438b0>]"
      ]
     },
     "execution_count": 20,
     "metadata": {},
     "output_type": "execute_result"
    },
    {
     "data": {
      "image/png": "[encoded data removed]",
      "text/plain": [
       "<Figure size 432x288 with 1 Axes>"
      ]
     },
     "metadata": {
      "needs_background": "light"
     },
     "output_type": "display_data"
    }
   ],
   "source": [
    "loss3 = history3.history['loss']\n",
    "acc3 = history3.history['accuracy']\n",
    "\n",
    "results3 = model3.evaluate(x_test, y_test,batch_size=100)\n",
    "\n",
    "plt.plot(acc3)"
   ]
  },
  {
   "cell_type": "markdown",
   "metadata": {},
   "source": [
    "## Fourth model"
   ]
  },
  {
   "cell_type": "code",
   "execution_count": 26,
   "metadata": {},
   "outputs": [],
   "source": [
    "x_train_conv = np.expand_dims(x_train_orig, -1)\n",
    "x_test_conv = np.expand_dims(x_test_orig, -1)"
   ]
  },
  {
   "cell_type": "code",
   "execution_count": 22,
   "metadata": {},
   "outputs": [
    {
     "name": "stdout",
     "output_type": "stream",
     "text": [
      "Epoch 1/33\n",
      "600/600 [==============================] - 56s 93ms/step - loss: 0.2895 - accuracy: 0.9056\n",
      "Epoch 2/33\n",
      "600/600 [==============================] - 56s 93ms/step - loss: 0.0570 - accuracy: 0.9815\n",
      "Epoch 3/33\n",
      "600/600 [==============================] - 56s 94ms/step - loss: 0.0429 - accuracy: 0.9863\n",
      "Epoch 4/33\n",
      "600/600 [==============================] - 56s 94ms/step - loss: 0.0335 - accuracy: 0.9895\n",
      "Epoch 5/33\n",
      "600/600 [==============================] - 56s 94ms/step - loss: 0.0282 - accuracy: 0.9914\n",
      "Epoch 6/33\n",
      "600/600 [==============================] - 56s 93ms/step - loss: 0.0244 - accuracy: 0.9920\n",
      "Epoch 7/33\n",
      "600/600 [==============================] - 56s 94ms/step - loss: 0.0214 - accuracy: 0.9930\n",
      "Epoch 8/33\n",
      "600/600 [==============================] - 56s 93ms/step - loss: 0.0176 - accuracy: 0.9944\n",
      "Epoch 9/33\n",
      "600/600 [==============================] - 57s 95ms/step - loss: 0.0156 - accuracy: 0.9952\n",
      "Epoch 10/33\n",
      "600/600 [==============================] - 56s 93ms/step - loss: 0.0142 - accuracy: 0.9956\n",
      "Epoch 11/33\n",
      "600/600 [==============================] - 56s 93ms/step - loss: 0.0116 - accuracy: 0.9965\n",
      "Epoch 12/33\n",
      "600/600 [==============================] - 56s 94ms/step - loss: 0.0100 - accuracy: 0.9971\n",
      "Epoch 13/33\n",
      "600/600 [==============================] - 56s 93ms/step - loss: 0.0091 - accuracy: 0.9974\n",
      "Epoch 14/33\n",
      "600/600 [==============================] - 57s 94ms/step - loss: 0.0077 - accuracy: 0.9978\n",
      "Epoch 15/33\n",
      "600/600 [==============================] - 56s 94ms/step - loss: 0.0065 - accuracy: 0.9982\n",
      "Epoch 16/33\n",
      "600/600 [==============================] - 57s 94ms/step - loss: 0.0063 - accuracy: 0.99820s - loss: 0.0063 - accuracy\n",
      "Epoch 17/33\n",
      "600/600 [==============================] - 56s 93ms/step - loss: 0.0050 - accuracy: 0.9987\n",
      "Epoch 18/33\n",
      "600/600 [==============================] - 57s 94ms/step - loss: 0.0045 - accuracy: 0.99861s - loss: 0\n",
      "Epoch 19/33\n",
      "600/600 [==============================] - 56s 93ms/step - loss: 0.0038 - accuracy: 0.99900s - loss: 0.0038 - accuracy\n",
      "Epoch 20/33\n",
      "600/600 [==============================] - 57s 95ms/step - loss: 0.0035 - accuracy: 0.9990\n",
      "Epoch 21/33\n",
      "600/600 [==============================] - 56s 94ms/step - loss: 0.0034 - accuracy: 0.9991\n",
      "Epoch 22/33\n",
      "600/600 [==============================] - 57s 94ms/step - loss: 0.0029 - accuracy: 0.9992\n",
      "Epoch 23/33\n",
      "600/600 [==============================] - 56s 93ms/step - loss: 0.0033 - accuracy: 0.9988\n",
      "Epoch 24/33\n",
      "600/600 [==============================] - 57s 94ms/step - loss: 0.0023 - accuracy: 0.9993\n",
      "Epoch 25/33\n",
      "600/600 [==============================] - 56s 93ms/step - loss: 0.0027 - accuracy: 0.9992\n",
      "Epoch 26/33\n",
      "600/600 [==============================] - 57s 95ms/step - loss: 0.0014 - accuracy: 0.9996\n",
      "Epoch 27/33\n",
      "600/600 [==============================] - 56s 93ms/step - loss: 0.0045 - accuracy: 0.9983\n",
      "Epoch 28/33\n",
      "600/600 [==============================] - 56s 94ms/step - loss: 0.0020 - accuracy: 0.9992\n",
      "Epoch 29/33\n",
      "600/600 [==============================] - 56s 94ms/step - loss: 7.1228e-04 - accuracy: 0.99991s - loss: 6.909\n",
      "Epoch 30/33\n",
      "600/600 [==============================] - 56s 94ms/step - loss: 3.4840e-04 - accuracy: 1.0000\n",
      "Epoch 31/33\n",
      "600/600 [==============================] - 58s 96ms/step - loss: 1.5991e-04 - accuracy: 1.00000s - loss: 1.6028e\n",
      "Epoch 32/33\n",
      "600/600 [==============================] - 56s 93ms/step - loss: 9.2866e-05 - accuracy: 1.00000s - loss: 9.3071e-05 - accu\n",
      "Epoch 33/33\n",
      "600/600 [==============================] - 57s 94ms/step - loss: 0.0035 - accuracy: 0.9990\n",
      "Model: \"sequential_6\"\n",
      "_________________________________________________________________\n",
      "Layer (type)                 Output Shape              Param #   \n",
      "=================================================================\n",
      "conv_layer1 (Conv2D)         (None, 28, 28, 32)        832       \n",
      "_________________________________________________________________\n",
      "downsampling1 (MaxPooling2D) (None, 14, 14, 32)        0         \n",
      "_________________________________________________________________\n",
      "conv_layer2 (Conv2D)         (None, 14, 14, 64)        51264     \n",
      "_________________________________________________________________\n",
      "downsampling2 (MaxPooling2D) (None, 7, 7, 64)          0         \n",
      "_________________________________________________________________\n",
      "flatten_1 (Flatten)          (None, 3136)              0         \n",
      "_________________________________________________________________\n",
      "predictions (Dense)          (None, 10)                31370     \n",
      "=================================================================\n",
      "Total params: 83,466\n",
      "Trainable params: 83,466\n",
      "Non-trainable params: 0\n",
      "_________________________________________________________________\n"
     ]
    }
   ],
   "source": [
    "model4 = keras.Sequential(\n",
    "    [\n",
    "        keras.Input(shape=(28,28,1)),\n",
    "        keras.layers.Conv2D(filters = 32,kernel_size=(5,5),padding='same',strides=(1,1),activation='relu',use_bias=True,kernel_initializer=weight_init,bias_initializer = biases_init,name='conv_layer1'),\n",
    "        keras.layers.MaxPooling2D(pool_size=(2,2),strides=(2,2), name ='downsampling1',padding='valid'),\n",
    "        keras.layers.Conv2D(filters = 64,kernel_size=(5,5),padding='same',strides=(1,1),activation='relu',use_bias=True,kernel_initializer=weight_init,bias_initializer = biases_init,name='conv_layer2'),\n",
    "        keras.layers.MaxPooling2D(pool_size=(2,2),strides=(2,2), name ='downsampling2',padding='valid'),\n",
    "        keras.layers.Flatten(),\n",
    "        keras.layers.Dense(10,activation = 'softmax', name='predictions', kernel_initializer=weight_init,bias_initializer=biases_init),\n",
    "    ]\n",
    ")\n",
    "\n",
    "\n",
    "model4.compile(optimizer=opt_adam,\n",
    "              loss ='categorical_crossentropy', \n",
    "              metrics = 'accuracy')\n",
    "\n",
    "history4 = model4.fit(x_train_conv,y_train,batch_size=100,epochs=num_epoch2)\n",
    "summ4 =model4.summary()"
   ]
  },
  {
   "cell_type": "code",
   "execution_count": 28,
   "metadata": {
    "scrolled": true
   },
   "outputs": [
    {
     "name": "stdout",
     "output_type": "stream",
     "text": [
      "100/100 [==============================] - 2s 22ms/step - loss: 0.0684 - accuracy: 0.9881\n"
     ]
    },
    {
     "data": {
      "text/plain": [
       "[<matplotlib.lines.Line2D at 0x16c1f91f250>]"
      ]
     },
     "execution_count": 28,
     "metadata": {},
     "output_type": "execute_result"
    },
    {
     "data": {
      "image/png": "[encoded data removed]",
      "text/plain": [
       "<Figure size 432x288 with 1 Axes>"
      ]
     },
     "metadata": {
      "needs_background": "light"
     },
     "output_type": "display_data"
    }
   ],
   "source": [
    "loss4 = history4.history['loss']\n",
    "acc4 = history4.history['accuracy']\n",
    "\n",
    "results4 = model4.evaluate(x_test_conv, y_test,batch_size=100)\n",
    "\n",
    "plt.plot(acc4)"
   ]
  },
  {
   "cell_type": "code",
   "execution_count": 50,
   "metadata": {},
   "outputs": [
    {
     "data": {
      "text/plain": [
       "<matplotlib.legend.Legend at 0x16c1fb2b280>"
      ]
     },
     "execution_count": 50,
     "metadata": {},
     "output_type": "execute_result"
    },
    {
     "data": {
      "image/png": "[encoded data removed]",
      "text/plain": [
       "<Figure size 720x432 with 1 Axes>"
      ]
     },
     "metadata": {
      "needs_background": "light"
     },
     "output_type": "display_data"
    }
   ],
   "source": [
    "plt.figure(figsize=(10,6))\n",
    "\n",
    "plt.plot(acc1,label='Linear Model')\n",
    "plt.plot(acc2,label='MLP')\n",
    "plt.plot(acc3,label='MLP w/ dropout')\n",
    "plt.plot(acc4,label='Convolutin network')\n",
    "plt.legend();"
   ]
  },
  {
   "cell_type": "code",
   "execution_count": 64,
   "metadata": {},
   "outputs": [
    {
     "name": "stdout",
     "output_type": "stream",
     "text": [
      "The linear model's accuracy on the test data is 0.9231\n",
      "The MLP model accuracy on the test data is 0.9808\n",
      "The MLP with dropout model's accuracy on the test data is 0.9785\n",
      "The MLP with dropout model's accuracy on the test data is 0.9881\n"
     ]
    }
   ],
   "source": [
    "print('The linear model\\'s accuracy on the test data is ' + str(round(results1[1],4)))\n",
    "print('The MLP model accuracy on the test data is ' + str(round(results2[1],4)))\n",
    "print('The MLP with dropout model\\'s accuracy on the test data is ' + str(round(results3[1],4)))\n",
    "print('The MLP with dropout model\\'s accuracy on the test data is ' + str(round(results4[1],4)))"
   ]
  }
 ],
 "metadata": {
  "kernelspec": {
   "display_name": "Python 3",
   "language": "python",
   "name": "python3"
  },
  "language_info": {
   "codemirror_mode": {
    "name": "ipython",
    "version": 3
   },
   "file_extension": ".py",
   "mimetype": "text/x-python",
   "name": "python",
   "nbconvert_exporter": "python",
   "pygments_lexer": "ipython3",
   "version": "3.8.3"
  }
 },
 "nbformat": 4,
 "nbformat_minor": 4
}
